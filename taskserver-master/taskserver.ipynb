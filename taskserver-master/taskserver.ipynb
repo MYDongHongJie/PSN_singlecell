{
 "cells": [
  {
   "cell_type": "markdown",
   "id": "dc853f1c",
   "metadata": {
    "pycharm": {
     "name": "#%% md\n"
    },
    "slideshow": {
     "slide_type": "slide"
    }
   },
   "source": [
    "# TaskServer介绍"
   ]
  },
  {
   "cell_type": "markdown",
   "id": "1fdcb350",
   "metadata": {
    "pycharm": {
     "name": "#%% md\n"
    },
    "slideshow": {
     "slide_type": "slide"
    }
   },
   "source": [
    "\n",
    "## 概念\n",
    "\n",
    "## web及server结构\n",
    "## taskserver结构\n",
    "\n",
    "## TODO"
   ]
  },
  {
   "cell_type": "markdown",
   "id": "30535258",
   "metadata": {
    "pycharm": {
     "name": "#%% md\n"
    },
    "slideshow": {
     "slide_type": "slide"
    }
   },
   "source": [
    "## 概念：前端 vs 后端"
   ]
  },
  {
   "cell_type": "markdown",
   "id": "67f0364b",
   "metadata": {
    "pycharm": {
     "name": "#%% md\n"
    },
    "slideshow": {
     "slide_type": "fragment"
    }
   },
   "source": [
    "**前端：**用户能够感知到的，提供用户界面交互。使用的技术包括HTML，CSS，JS以及基于这类技术衍生的相应框架"
   ]
  },
  {
   "cell_type": "markdown",
   "id": "e43ab60d",
   "metadata": {
    "pycharm": {
     "name": "#%% md\n"
    },
    "slideshow": {
     "slide_type": "fragment"
    }
   },
   "source": [
    "**后端：**用户比较难以感知的，但却非常重要的。如提交分析按钮是一个前端按钮，但是实际提交到服务器上进行计算运行，并把计算的结果返回到客户端。"
   ]
  },
  {
   "cell_type": "markdown",
   "id": "1336cb6b",
   "metadata": {
    "pycharm": {
     "name": "#%% md\n"
    },
    "slideshow": {
     "slide_type": "slide"
    }
   },
   "source": [
    "## 概念：服务 vs 任务（脚本）"
   ]
  },
  {
   "cell_type": "markdown",
   "id": "7b2e4223",
   "metadata": {
    "pycharm": {
     "name": "#%% md\n"
    },
    "slideshow": {
     "slide_type": "fragment"
    }
   },
   "source": [
    "**服务：** 常驻在服务器进程中，时刻响应客户端的请求，存在时空分离情况。"
   ]
  },
  {
   "cell_type": "markdown",
   "id": "1eadce7a",
   "metadata": {
    "pycharm": {
     "name": "#%% md\n"
    },
    "slideshow": {
     "slide_type": "fragment"
    }
   },
   "source": [
    "**任务（脚本）：** 有指定的入口及顺序，有预期的开始和结束节点。"
   ]
  },
  {
   "cell_type": "markdown",
   "id": "cb21ffb2",
   "metadata": {
    "pycharm": {
     "name": "#%% md\n"
    },
    "slideshow": {
     "slide_type": "slide"
    }
   },
   "source": [
    "## 概念：架构图"
   ]
  },
  {
   "cell_type": "markdown",
   "id": "f4eea503",
   "metadata": {
    "pycharm": {
     "name": "#%% md\n"
    },
    "slideshow": {
     "slide_type": "skip"
    }
   },
   "source": [
    "```mermaid\n",
    "flowchart LR\n",
    "  a(用户) <--> A\n",
    "  A(scc前端) <--> B(scc后端)\n",
    "  B <--> C(taskserver)\n",
    "  C <--> D(qsub 集群)\n",
    "  B <--> D\n",
    "  B <--> MySQL\n",
    "  B <--> MongoDB\n",
    "```"
   ]
  },
  {
   "attachments": {
    "image.png": {
     "image/png": "[encoded data removed]"
    }
   },
   "cell_type": "markdown",
   "id": "cfd17d6e",
   "metadata": {
    "pycharm": {
     "name": "#%% md\n"
    },
    "slideshow": {
     "slide_type": "fragment"
    }
   },
   "source": [
    "![image.png](attachment:image.png)"
   ]
  },
  {
   "cell_type": "markdown",
   "id": "56e9cee3",
   "metadata": {
    "pycharm": {
     "name": "#%%\n"
    },
    "slideshow": {
     "slide_type": "slide"
    }
   },
   "source": [
    "## web前端"
   ]
  },
  {
   "cell_type": "code",
   "execution_count": 1,
   "id": "83b6cfd6",
   "metadata": {
    "scrolled": true,
    "slideshow": {
     "slide_type": "subslide"
    }
   },
   "outputs": [
    {
     "name": "stdout",
     "output_type": "stream",
     "text": [
      "\u001B[01;34m../sccloud/oe-sccloud-web-milestones-master\u001B[00m\r\n",
      "├── build.prod.sh\r\n",
      "├── build.sh\r\n",
      "├── \u001B[01;34mconfig\u001B[00m\r\n",
      "│   ├── config.dev.js\r\n",
      "│   ├── config.js\r\n",
      "│   ├── defaultSettings.js\r\n",
      "│   ├── oneapi.json\r\n",
      "│   ├── proxy.js\r\n",
      "│   └── routes.js\r\n",
      "├── deployment_prod.yaml\r\n",
      "├── deployment.yaml\r\n",
      "├── deploy.sh\r\n",
      "├── Dockerfile\r\n",
      "├── Jenkinsfile\r\n",
      "├── jest.config.js\r\n",
      "├── jsconfig.json\r\n",
      "├── \u001B[01;34mmock\u001B[00m\r\n",
      "│   ├── listTableList.js\r\n",
      "│   ├── notices.js\r\n",
      "│   ├── route.js\r\n",
      "│   └── user.js\r\n",
      "├── \u001B[01;34mnginx\u001B[00m\r\n",
      "│   ├── nginx.conf\r\n",
      "│   └── vhost.nginx.conf\r\n",
      "├── package.json\r\n",
      "├── package-lock.json\r\n",
      "├── \u001B[01;34mpublic\u001B[00m\r\n",
      "│   ├── CNAME\r\n",
      "│   ├── \u001B[01;34mdemo\u001B[00m\r\n",
      "│   ├── favicon.ico\r\n",
      "│   ├── \u001B[01;34micons\u001B[00m\r\n",
      "│   ├── \u001B[01;35mlogo.svg\u001B[00m\r\n",
      "│   └── \u001B[01;35mpro_icon.svg\u001B[00m\r\n",
      "├── README.en.md\r\n",
      "├── README.md\r\n",
      "├── \u001B[01;34msrc\u001B[00m\r\n",
      "│   ├── access.js\r\n",
      "│   ├── app.jsx\r\n",
      "│   ├── \u001B[01;34massets\u001B[00m\r\n",
      "│   ├── \u001B[01;34mcomponents\u001B[00m\r\n",
      "│   ├── \u001B[01;34mconf\u001B[00m\r\n",
      "│   ├── \u001B[01;34me2e\u001B[00m\r\n",
      "│   ├── global.jsx\r\n",
      "│   ├── global.less\r\n",
      "│   ├── \u001B[01;34mlayouts\u001B[00m\r\n",
      "│   ├── \u001B[01;34mlocales\u001B[00m\r\n",
      "│   ├── manifest.json\r\n",
      "│   ├── \u001B[01;34mmodels\u001B[00m\r\n",
      "│   ├── \u001B[01;34mpages\u001B[00m\r\n",
      "│   ├── \u001B[01;34mservices\u001B[00m\r\n",
      "│   ├── service-worker.js\r\n",
      "│   └── \u001B[01;34mutils\u001B[00m\r\n",
      "└── \u001B[01;34mtests\u001B[00m\r\n",
      "    ├── beforeTest.js\r\n",
      "    ├── getBrowser.js\r\n",
      "    ├── PuppeteerEnvironment.js\r\n",
      "    ├── run-tests.js\r\n",
      "    └── setupTests.js\r\n",
      "\r\n",
      "18 directories, 40 files\r\n"
     ]
    }
   ],
   "source": [
    "!tree ../sccloud/oe-sccloud-web-milestones-master -L 2"
   ]
  },
  {
   "cell_type": "markdown",
   "id": "35c4e69f",
   "metadata": {
    "pycharm": {
     "name": "#%% md\n"
    },
    "slideshow": {
     "slide_type": "slide"
    }
   },
   "source": [
    "## web 后端"
   ]
  },
  {
   "cell_type": "code",
   "execution_count": null,
   "id": "bcd8b228",
   "metadata": {
    "slideshow": {
     "slide_type": "subslide"
    }
   },
   "outputs": [],
   "source": [
    "# %load -r 18-47 ../sccloud/oe-sccloud-server-milestones-master/README.md\n",
    "## 项目结构\n",
    "\n",
    "```\n",
    "├─app    # 项目代码目录\n",
    "│  ├─config      # 配置文件目录\n",
    "│  │  ├─anonymous.py  # 可匿名访问接口配置文件\n",
    "│  │  ├─db.py         # 数据库连接配置文件，关系数据库，如mysql\n",
    "│  │  ├─fastapi.py    # FastAPI项目配置文件\n",
    "│  │  ├─mongo.py      # mongo数据库连接配置文件\n",
    "│  │  └─redis.py      # redis连接配置文件\n",
    "│  ├─controller  # 控制器层，API入口\n",
    "│  ├─dao         # DAO层，数据访问对象\n",
    "│  ├─model       # Model层，数据表对象\n",
    "│  ├─schema      # Schema层，数据结构验证层，对API出入参数的校验、过滤、转换\n",
    "│  ├─service     # Service层，业务逻辑处理层\n",
    "│  ├─sql         # 原生SQL文件目录，复杂的SQL语句单独存放这里\n",
    "│  ├─templates   # 模板目录，如html、excel、email等模板文件\n",
    "│  ├─temporary   # 临时文件目录，运行过程中生成的临时文件存放\n",
    "│  └─utils       # 工具箱\n",
    "├─docker  # 项目docker运行脚步目录\n",
    "│  ├─deploy.sh   # shell部署脚本\n",
    "│  ├─deocker-compose.yml  # deocker-compose部署脚本\n",
    "│  └─run.sh      # docker内运行项目脚本，采用uvicorn\n",
    "├─res     # 项目静态资源目录，如附件、图片、视频等文件\n",
    "├─venv    # python 虚拟环境目录\n",
    "├─dev_run.py          # 开发模式运行项目\n",
    "└─dev_db_2_model.py   # 根据已有数据库表生成 ORM 使用的 model.py\n",
    "├─dev_model_2_db.py   # 根据已有 ORM 使用的 model.py 生成数据库表\n",
    "└─dev_generate_model.py   # 基于Demo代码生成新的模块，省去复制粘贴\n",
    "```"
   ]
  },
  {
   "cell_type": "markdown",
   "id": "60566846",
   "metadata": {
    "pycharm": {
     "name": "#%% md\n"
    },
    "slideshow": {
     "slide_type": "slide"
    }
   },
   "source": [
    "## taskserver"
   ]
  },
  {
   "cell_type": "markdown",
   "id": "35638577",
   "metadata": {
    "slideshow": {
     "slide_type": "subslide"
    }
   },
   "source": [
    "### 需求"
   ]
  },
  {
   "cell_type": "markdown",
   "id": "bd7c9366",
   "metadata": {
    "slideshow": {
     "slide_type": "subslide"
    }
   },
   "source": [
    "需求1 \n",
    "```\n",
    "POST http://qsub-server-domain/tasks/add\n",
    "参数为JSON body，示例如下\n",
    "{\n",
    "“cmd”: “cellranger.sh”, // 必填参数，任务执行命令行及默认参数\n",
    "“workroot”: “”,// 必填参数\n",
    "“projectId”: “”, // 必填参数，项目ID\n",
    "“taskId”: “”, // 必填参数，任务执行ID\n",
    "“priority”: -2 , // 非必填参数\n",
    "“queue”: “big”, // 必填参数\n",
    "“slot”: 4 // 必填参数\n",
    "}\n",
    "qsub命令示例：qsub -pe smp [slot] -q [queue] -V projectId:[projectId]:taskId:[taskId]\n",
    "[cmd]\n",
    "返回 JSON 结果\n",
    "{\n",
    "“success”: 1, // 返回操作成功与否，1为成功，0为失败\n",
    "“error”: “”, // 失败时返回错误信息，调试用，不展示给用户\n",
    "“qsubId”: “” // 成功时返回，取消任务时使用\n",
    "}\n",
    "```"
   ]
  },
  {
   "cell_type": "markdown",
   "id": "7f84365d",
   "metadata": {
    "slideshow": {
     "slide_type": "subslide"
    }
   },
   "source": [
    "需求2\n",
    "```\n",
    "POST http://qsub-server-domain/tasks/remove\n",
    "参数为JSON body，示例如下\n",
    "{\n",
    "“qsubId”: “”, // 必填参数，添加任务时返回的qsubId\n",
    "}\n",
    "返回 JSON 结果\n",
    "{\n",
    "“success”: 1, // 返回操作成功与否，1为成功，0为失败\n",
    "“error”: “”, // 失败时返回错误信息，调试用，不展示给用户\n",
    "}\n",
    "```"
   ]
  },
  {
   "cell_type": "code",
   "execution_count": 34,
   "id": "d60d9dec",
   "metadata": {
    "pycharm": {
     "name": "#%%\n"
    },
    "slideshow": {
     "slide_type": "subslide"
    }
   },
   "outputs": [
    {
     "name": "stdout",
     "output_type": "stream",
     "text": [
      "\u001B[01;34mtaskserver\u001B[00m\r\n",
      "├── cli.py\r\n",
      "├── core.py\r\n",
      "├── \u001B[01;32m__init__.py\u001B[00m\r\n",
      "├── items.py\r\n",
      "├── \u001B[01;32m__main__.py\u001B[00m\r\n",
      "└── settings.py\r\n",
      "\r\n",
      "0 directories, 6 files\r\n"
     ]
    }
   ],
   "source": [
    "!tree taskserver -I \"*.pyc|utils|tools|pipeline|datasets|__pycache__\""
   ]
  },
  {
   "cell_type": "code",
   "execution_count": null,
   "id": "358fd99b",
   "metadata": {
    "slideshow": {
     "slide_type": "subslide"
    }
   },
   "outputs": [],
   "source": [
    "# %load taskserver/core.py\n",
    "from fastapi import FastAPI\n",
    "from subprocess import run\n",
    "\n",
    "from .items import TaskAddItem, TaskRemoveItem\n",
    "\n",
    "app = FastAPI(title='scRNA qsub Server', description=\"欧易单细胞云平台qsub服务接口\",\n",
    "              version='0.2.0', )\n",
    "\n",
    "\n",
    "@app.post('/tasks/add')\n",
    "async def add_task(task: TaskAddItem):\n",
    "    return task.run()\n",
    "\n",
    "\n",
    "@app.post('/tasks/remove')\n",
    "async def remove_task(task: TaskRemoveItem):\n",
    "    q_id = task.qsubId\n",
    "    job = q_id if len(q_id) == 6 else f'T{q_id}'\n",
    "    output = run(['qdel', job], text=True, capture_output=True)\n",
    "    return {'success': output.returncode, 'error': output.stderr}\n"
   ]
  },
  {
   "cell_type": "code",
   "execution_count": null,
   "id": "c575f8dd",
   "metadata": {
    "slideshow": {
     "slide_type": "subslide"
    }
   },
   "outputs": [],
   "source": [
    "# %load -r 14-57 taskserver/items.py\n",
    "class TaskAddItem(BaseModel):\n",
    "    workroot: str\n",
    "    projectId: str\n",
    "    taskId: str\n",
    "    priority: int = Field(0, ge=-1023, le=1024)\n",
    "    queue: str = 'big'\n",
    "    slot: int = 4\n",
    "    cmd: str = 'python scRNA.py'\n",
    "\n",
    "    def get_run_file(self, wd, pid, tid, i):\n",
    "        return wd / f'{pid}_{tid}_{i}.sh'\n",
    "\n",
    "    def build_cmd(self):\n",
    "        pid, tid = self.projectId, self.taskId\n",
    "        wd = Path(f'{self.workroot}/20{pid[:2]}/{pid[2:4]}/{pid}/{tid}')\n",
    "        wd.mkdir(parents=True, exist_ok=True)\n",
    "        i = 0\n",
    "        run_file = self.get_run_file(wd, pid, tid, i)\n",
    "        while run_file.exists():\n",
    "            i += 1\n",
    "            run_file = self.get_run_file(wd, pid, tid, i)\n",
    "        cmd = f'qsub -V -cwd -pe smp {self.slot} -sync no -N T{self.taskId} ' \\\n",
    "              f'-p {self.priority} -q {self.queue}'.split()\n",
    "        cmd.extend(['-wd', f'{wd}', f'{run_file}'])\n",
    "        logger.debug('CMD: %s', ' '.join(cmd))\n",
    "        run_file.write_text(f'# 脚本自动生成时间：{datetime.now()}\\n'\n",
    "                            f'# Qsub CMD: {\" \".join(cmd)}\\n'\n",
    "                            f'module purge\\n'\n",
    "                            f'module load {SC_MODULE}\\n'\n",
    "                            f'{self.cmd} -t {self.taskId} -p {self.projectId} -w {wd}\\n')\n",
    "\n",
    "        return cmd\n",
    "\n",
    "    def run(self):\n",
    "        try:\n",
    "            output = run(self.build_cmd(), text=True, capture_output=True, check=True)\n",
    "            match_obj = re.search(r'Your job (\\d+)', output.stdout)\n",
    "            job_id = match_obj.group(1) if match_obj else ''\n",
    "            return {'success': 1, 'error': output.stderr, 'qsubId': job_id}\n",
    "        except CalledProcessError as e:\n",
    "            return {'success': 0, 'error': e.stderr + e.stdout, 'qsubId': ''}\n",
    "        except PermissionError as e:\n",
    "            return {'success': 0, 'error': str(e), 'qsubId': ''}\n"
   ]
  },
  {
   "cell_type": "code",
   "execution_count": null,
   "id": "85cb4baa",
   "metadata": {
    "pycharm": {
     "name": "#%%\n"
    }
   },
   "outputs": [],
   "source": [
    "# %load taskserver/cli.py\n",
    "\"\"\"Console script for taskserver.\"\"\"\n",
    "import fire\n",
    "import uvicorn\n",
    "LOGGING_CONFIG: dict = {\n",
    "    \"version\": 1,\n",
    "    \"disable_existing_loggers\": False,\n",
    "    \"formatters\": {\n",
    "        \"default\": {\n",
    "            \"()\": \"uvicorn.logging.DefaultFormatter\",\n",
    "            \"fmt\": \"%(asctime)s %(levelprefix)s %(message)s\",\n",
    "            \"use_colors\": None,\n",
    "        },\n",
    "        \"access\": {\n",
    "            \"()\": \"uvicorn.logging.AccessFormatter\",\n",
    "            \"fmt\": '%(asctime)s %(levelprefix)s %(client_addr)s - \"%(request_line)s\" %(status_code)s',  # noqa: E501\n",
    "        },\n",
    "    },\n",
    "    \"handlers\": {\n",
    "        \"default\": {\n",
    "            \"formatter\": \"default\",\n",
    "            \"class\": \"logging.StreamHandler\",\n",
    "            \"stream\": \"ext://sys.stderr\",\n",
    "        },\n",
    "        \"access\": {\n",
    "            \"formatter\": \"access\",\n",
    "            \"class\": \"logging.StreamHandler\",\n",
    "            \"stream\": \"ext://sys.stdout\",\n",
    "        },\n",
    "    },\n",
    "    \"loggers\": {\n",
    "        \"taskserver\": {'handlers': ['default'], 'level': 'DEBUG'},\n",
    "        \"uvicorn\": {\"handlers\": [\"default\"], \"level\": \"INFO\"},\n",
    "        \"uvicorn.error\": {\"level\": \"INFO\"},\n",
    "        \"uvicorn.access\": {\"handlers\": [\"access\"], \"level\": \"INFO\", \"propagate\": False},\n",
    "    },\n",
    "}\n",
    "\n",
    "\n",
    "def run_app(host='0.0.0.0', port=8888, **kwargs):\n",
    "    kwargs['log_config'] = LOGGING_CONFIG\n",
    "    uvicorn.run(\"taskserver.core:app\", host=host, port=port, **kwargs)\n",
    "\n",
    "\n",
    "def main():\n",
    "    fire.Fire(run_app)\n"
   ]
  },
  {
   "cell_type": "code",
   "execution_count": null,
   "outputs": [],
   "source": [
    "# %load taskserver/cli.py\n",
    "\"\"\"Console script for taskserver.\"\"\"\n",
    "import fire\n",
    "import uvicorn\n",
    "LOGGING_CONFIG: dict = {\n",
    "    \"version\": 1,\n",
    "    \"disable_existing_loggers\": False,\n",
    "    \"formatters\": {\n",
    "        \"default\": {\n",
    "            \"()\": \"uvicorn.logging.DefaultFormatter\",\n",
    "            \"fmt\": \"%(asctime)s %(levelprefix)s %(message)s\",\n",
    "            \"use_colors\": None,\n",
    "        },\n",
    "        \"access\": {\n",
    "            \"()\": \"uvicorn.logging.AccessFormatter\",\n",
    "            \"fmt\": '%(asctime)s %(levelprefix)s %(client_addr)s - \"%(request_line)s\" %(status_code)s',  # noqa: E501\n",
    "        },\n",
    "    },\n",
    "    \"handlers\": {\n",
    "        \"default\": {\n",
    "            \"formatter\": \"default\",\n",
    "            \"class\": \"logging.StreamHandler\",\n",
    "            \"stream\": \"ext://sys.stderr\",\n",
    "        },\n",
    "        \"access\": {\n",
    "            \"formatter\": \"access\",\n",
    "            \"class\": \"logging.StreamHandler\",\n",
    "            \"stream\": \"ext://sys.stdout\",\n",
    "        },\n",
    "    },\n",
    "    \"loggers\": {\n",
    "        \"taskserver\": {'handlers': ['default'], 'level': 'DEBUG'},\n",
    "        \"uvicorn\": {\"handlers\": [\"default\"], \"level\": \"INFO\"},\n",
    "        \"uvicorn.error\": {\"level\": \"INFO\"},\n",
    "        \"uvicorn.access\": {\"handlers\": [\"access\"], \"level\": \"INFO\", \"propagate\": False},\n",
    "    },\n",
    "}\n",
    "\n",
    "# from taskserver import core\n",
    "# from taskserver.oesc_task import oesc_task\n",
    "\n",
    "\n",
    "def run_app(host='0.0.0.0', port=8888, **kwargs):\n",
    "    from . import settings\n",
    "    kwargs = settings.update(kwargs)\n",
    "    kwargs['log_config'] = LOGGING_CONFIG\n",
    "    uvicorn.run(\"taskserver.core:app\", host=host, port=port, **kwargs)\n",
    "\n",
    "\n",
    "def main():\n",
    "    fire.Fire(run_app)\n"
   ],
   "metadata": {
    "collapsed": false,
    "pycharm": {
     "name": "#%%\n"
    }
   }
  },
  {
   "cell_type": "code",
   "execution_count": null,
   "outputs": [],
   "source": [
    "# %load -r 14- setup.py\n",
    "requirements = ['fire',\n",
    "                'fastapi',\n",
    "                'uvicorn',\n",
    "                'cairosvg == 2.2.1',\n",
    "                'pandas == 1.3.5',\n",
    "                'selenium', ]\n",
    "\n",
    "setup_requirements = ['pytest-runner', ]\n",
    "\n",
    "test_requirements = ['pytest>=3', ]\n",
    "\n",
    "# setup的更多细节配置见 https://setuptools.readthedocs.io/en/latest/\n",
    "setup(\n",
    "    author=\"OE Biotech Team\",\n",
    "    author_email='xuebiao.wu@oebiotech.com',\n",
    "    python_requires='>=3.7',\n",
    "    classifiers=[\n",
    "        'Development Status :: 2 - Pre-Alpha',\n",
    "        'Intended Audience :: Developers',\n",
    "        'Natural Language :: English',\n",
    "        'Programming Language :: Python :: 3',\n",
    "        'Programming Language :: Python :: 3.7',\n",
    "        'Programming Language :: Python :: 3.8',\n",
    "        'Programming Language :: Python :: 3.9',\n",
    "        'Programming Language :: Python :: 3.10',\n",
    "    ],\n",
    "    description=\"qsub 投递的任务守护进程及web服务\",\n",
    "    entry_points={\n",
    "        'console_scripts': [\n",
    "            'taskserver=taskserver.cli:main',\n",
    "        ],\n",
    "    },\n",
    "    install_requires=requirements,\n",
    "    long_description=readme + '\\n\\n' + history,\n",
    "    long_description_content_type='rst',\n",
    "    # 该项与MANIFEST.in文件配套使用，docs和tests文件夹下的所有文件均不会打包发布，\n",
    "    # 其他非明确指定的文件自动在包发布的时候包含到包中\n",
    "    include_package_data=True,\n",
    "    keywords='taskserver, OE Biotech',\n",
    "    name='taskserver',\n",
    "    packages=find_packages(include=['taskserver', 'taskserver.*']),\n",
    "    # 在安装的时候自动将Scripts下的脚本注入当前Python的bin或Scripts目录作为可执行程序。\n",
    "    packages_data={'taskserver': ['datasets/*']},\n",
    "    # package_dir={'taskserver': 'src/mypkg'},\n",
    "    scripts=glob.glob('scripts/*', recursive=True),\n",
    "    setup_requires=setup_requirements,\n",
    "    test_suite='tests',\n",
    "    tests_require=test_requirements,\n",
    "    url='http://gitlab.oebiotech.cn/oe/taskserver',\n",
    "    version='0.2.0',\n",
    "    zip_safe=False,\n",
    ")\n"
   ],
   "metadata": {
    "collapsed": false,
    "pycharm": {
     "name": "#%%\n"
    }
   }
  },
  {
   "cell_type": "code",
   "execution_count": null,
   "outputs": [],
   "source": [
    "!pip install -e ."
   ],
   "metadata": {
    "collapsed": false,
    "pycharm": {
     "name": "#%%\n"
    }
   }
  },
  {
   "cell_type": "code",
   "execution_count": null,
   "outputs": [],
   "source": [
    "!taskserver --port 9999"
   ],
   "metadata": {
    "collapsed": false,
    "pycharm": {
     "name": "#%%\n"
    }
   }
  },
  {
   "cell_type": "code",
   "execution_count": null,
   "outputs": [],
   "source": [
    "!tree taskserver"
   ],
   "metadata": {
    "collapsed": false,
    "pycharm": {
     "name": "#%%\n"
    }
   }
  },
  {
   "cell_type": "markdown",
   "source": [
    "## 生信集群（qsub）"
   ],
   "metadata": {
    "collapsed": false,
    "pycharm": {
     "name": "#%% md\n"
    }
   }
  },
  {
   "cell_type": "code",
   "execution_count": 26,
   "id": "288e3ee2",
   "metadata": {},
   "outputs": [
    {
     "name": "stdout",
     "output_type": "stream",
     "text": [
      "\u001B[01;34mtaskserver\u001B[00m\r\n",
      "├── cli.py\r\n",
      "├── core.py\r\n",
      "├── \u001B[01;34mdatasets\u001B[00m\r\n",
      "│   ├── __init__.py\r\n",
      "│   └── output.json.tsv\r\n",
      "├── \u001B[01;32m__init__.py\u001B[00m\r\n",
      "├── items.py\r\n",
      "├── \u001B[01;32m__main__.py\u001B[00m\r\n",
      "├── \u001B[01;34mpipeline\u001B[00m\r\n",
      "│   ├── __init__.py\r\n",
      "│   ├── run_bclust.py\r\n",
      "│   ├── run_beforeQC.py\r\n",
      "│   ├── run_cellranger.py\r\n",
      "│   ├── run_celltyping.py\r\n",
      "│   ├── run_correlation.py\r\n",
      "│   ├── run_diffexp.py\r\n",
      "│   ├── run_email_sor.py\r\n",
      "│   ├── run_enrichment.py\r\n",
      "│   ├── run_findallmarkers.py\r\n",
      "│   ├── run_ppi.py\r\n",
      "│   ├── run_QC.py\r\n",
      "│   └── run_summarize.py\r\n",
      "├── \u001B[01;34m__pycache__\u001B[00m\r\n",
      "│   ├── \u001B[01;32mcli.cpython-310.pyc\u001B[00m\r\n",
      "│   ├── cli.cpython-39.pyc\r\n",
      "│   ├── \u001B[01;32mcore.cpython-310.pyc\u001B[00m\r\n",
      "│   ├── core.cpython-39.pyc\r\n",
      "│   ├── \u001B[01;32m__init__.cpython-310.pyc\u001B[00m\r\n",
      "│   ├── \u001B[01;32m__init__.cpython-39.pyc\u001B[00m\r\n",
      "│   ├── items.cpython-39.pyc\r\n",
      "│   └── settings.cpython-39.pyc\r\n",
      "├── settings.py\r\n",
      "├── \u001B[01;34mtools\u001B[00m\r\n",
      "│   ├── api_upload.py\r\n",
      "│   ├── __init__.py\r\n",
      "│   ├── module_cmd.py\r\n",
      "│   ├── parse_json.py\r\n",
      "│   └── taskfile_remove.py\r\n",
      "└── \u001B[01;34mutils\u001B[00m\r\n",
      "    ├── __init__.py\r\n",
      "    ├── log.py\r\n",
      "    └── restructure.py\r\n",
      "\r\n",
      "5 directories, 37 files\r\n"
     ]
    }
   ],
   "source": [
    "!tree taskserver"
   ]
  },
  {
   "cell_type": "markdown",
   "id": "fe5df8f5",
   "metadata": {
    "pycharm": {
     "name": "#%% md\n"
    }
   },
   "source": [
    "## 生信集群（qsub）"
   ]
  },
  {
   "cell_type": "code",
   "execution_count": 19,
   "id": "784f977f",
   "metadata": {
    "pycharm": {
     "name": "#%%\n"
    },
    "slideshow": {
     "slide_type": "skip"
    }
   },
   "outputs": [
    {
     "name": "stdout",
     "output_type": "stream",
     "text": [
      "[NbConvertApp] Converting notebook taskserver.ipynb to slides\n",
      "[NbConvertApp] Writing 668269 bytes to taskserver.slides.html\n"
     ]
    }
   ],
   "source": [
    "!jupyter nbconvert taskserver.ipynb --to slides\n"
   ]
  }
 ],
 "metadata": {
  "celltoolbar": "幻灯片",
  "kernelspec": {
   "display_name": "Python 3 (ipykernel)",
   "language": "python",
   "name": "python3"
  },
  "language_info": {
   "codemirror_mode": {
    "name": "ipython",
    "version": 3
   },
   "file_extension": ".py",
   "mimetype": "text/x-python",
   "name": "python",
   "nbconvert_exporter": "python",
   "pygments_lexer": "ipython3",
   "version": "3.9.12"
  }
 },
 "nbformat": 4,
 "nbformat_minor": 5
}